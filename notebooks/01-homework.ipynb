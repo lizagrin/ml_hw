{
 "cells": [
  {
   "cell_type": "code",
   "execution_count": 1,
   "metadata": {
    "collapsed": true
   },
   "outputs": [
    {
     "name": "stdout",
     "output_type": "stream",
     "text": [
      "{'mean': 3.4285714285714284, 'median': 3, 'mode': 1}\n"
     ]
    }
   ],
   "source": [
    "from statistics import mean, median, mode\n",
    "\n",
    "\n",
    "def func(lst):\n",
    "    mean_val = mean(lst)\n",
    "    median_val = median(lst)\n",
    "    mode_val = mode(lst)\n",
    "    return {\"mean\": mean_val, \"median\": median_val, \"mode\": mode_val}\n",
    "\n",
    "\n",
    "print(func([0, 1, 1, 10, 5, 4, 3]))"
   ]
  },
  {
   "cell_type": "code",
   "execution_count": 2,
   "outputs": [
    {
     "name": "stdout",
     "output_type": "stream",
     "text": [
      "Broodmother with 8 legs\n"
     ]
    }
   ],
   "source": [
    "def parse_csv(file_content):\n",
    "    lines = file_content.splitlines()\n",
    "    head = lines[0].split(',')\n",
    "    result = []\n",
    "    for line in lines[1:]:\n",
    "        item_line = line.split(',')\n",
    "        values = item_line[:7]\n",
    "        # Последний элемент содержит запятые, поэтому его обрабатываем отдельно\n",
    "        roles_data = ','.join(item_line[7:])\n",
    "        values.append(roles_data)\n",
    "        data_dict = dict(zip(head, values))\n",
    "        result.append(data_dict)\n",
    "    return result\n",
    "\n",
    "\n",
    "with open('../data/dota_hero_stats.csv', 'r') as file:\n",
    "    csv_data = file.read()\n",
    "\n",
    "data_hero = parse_csv(csv_data)\n",
    "max_leg = max(data_hero, key=lambda x: int(x['legs']))\n",
    "print(max_leg['localized_name'], \"with\", max_leg['legs'], \"legs\")"
   ],
   "metadata": {
    "collapsed": false
   }
  }
 ],
 "metadata": {
  "kernelspec": {
   "display_name": "Python 3",
   "language": "python",
   "name": "python3"
  },
  "language_info": {
   "codemirror_mode": {
    "name": "ipython",
    "version": 2
   },
   "file_extension": ".py",
   "mimetype": "text/x-python",
   "name": "python",
   "nbconvert_exporter": "python",
   "pygments_lexer": "ipython2",
   "version": "2.7.6"
  }
 },
 "nbformat": 4,
 "nbformat_minor": 0
}
