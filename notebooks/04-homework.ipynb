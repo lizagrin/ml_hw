{
 "cells": [
  {
   "cell_type": "markdown",
   "source": [
    "# Дз 4"
   ],
   "metadata": {
    "collapsed": false
   },
   "id": "8b975df9617f1002"
  },
  {
   "cell_type": "markdown",
   "source": [
    "## Easy"
   ],
   "metadata": {
    "collapsed": false
   },
   "id": "9efc2b440651ff97"
  },
  {
   "cell_type": "code",
   "outputs": [],
   "source": [
    "import pandas as pd\n",
    "import os\n",
    "import matplotlib.pyplot as plt\n",
    "from sklearn.model_selection import train_test_split\n",
    "from sklearn.model_selection import GridSearchCV\n",
    "from sklearn.tree import DecisionTreeRegressor\n",
    "from sklearn.ensemble import RandomForestRegressor\n",
    "from sklearn.metrics import r2_score"
   ],
   "metadata": {
    "collapsed": false,
    "ExecuteTime": {
     "end_time": "2024-03-23T07:48:02.170849Z",
     "start_time": "2024-03-23T07:48:02.167082Z"
    }
   },
   "id": "6887378eb359c9ed",
   "execution_count": 327
  },
  {
   "cell_type": "code",
   "outputs": [
    {
     "data": {
      "text/plain": "       model  year  price transmission  mileage fuelType  tax   mpg  \\\n0   5 Series  2014  11200    Automatic    67068   Diesel  125  57.6   \n1   6 Series  2018  27000    Automatic    14827   Petrol  145  42.8   \n2   5 Series  2016  16000    Automatic    62794   Diesel  160  51.4   \n3   1 Series  2017  12750    Automatic    26676   Diesel  145  72.4   \n4   7 Series  2014  14500    Automatic    39554   Diesel  160  50.4   \n\n   engineSize  \n0         2.0  \n1         2.0  \n2         3.0  \n3         1.5  \n4         3.0  ",
      "text/html": "<div>\n<style scoped>\n    .dataframe tbody tr th:only-of-type {\n        vertical-align: middle;\n    }\n\n    .dataframe tbody tr th {\n        vertical-align: top;\n    }\n\n    .dataframe thead th {\n        text-align: right;\n    }\n</style>\n<table border=\"1\" class=\"dataframe\">\n  <thead>\n    <tr style=\"text-align: right;\">\n      <th></th>\n      <th>model</th>\n      <th>year</th>\n      <th>price</th>\n      <th>transmission</th>\n      <th>mileage</th>\n      <th>fuelType</th>\n      <th>tax</th>\n      <th>mpg</th>\n      <th>engineSize</th>\n    </tr>\n  </thead>\n  <tbody>\n    <tr>\n      <th>0</th>\n      <td>5 Series</td>\n      <td>2014</td>\n      <td>11200</td>\n      <td>Automatic</td>\n      <td>67068</td>\n      <td>Diesel</td>\n      <td>125</td>\n      <td>57.6</td>\n      <td>2.0</td>\n    </tr>\n    <tr>\n      <th>1</th>\n      <td>6 Series</td>\n      <td>2018</td>\n      <td>27000</td>\n      <td>Automatic</td>\n      <td>14827</td>\n      <td>Petrol</td>\n      <td>145</td>\n      <td>42.8</td>\n      <td>2.0</td>\n    </tr>\n    <tr>\n      <th>2</th>\n      <td>5 Series</td>\n      <td>2016</td>\n      <td>16000</td>\n      <td>Automatic</td>\n      <td>62794</td>\n      <td>Diesel</td>\n      <td>160</td>\n      <td>51.4</td>\n      <td>3.0</td>\n    </tr>\n    <tr>\n      <th>3</th>\n      <td>1 Series</td>\n      <td>2017</td>\n      <td>12750</td>\n      <td>Automatic</td>\n      <td>26676</td>\n      <td>Diesel</td>\n      <td>145</td>\n      <td>72.4</td>\n      <td>1.5</td>\n    </tr>\n    <tr>\n      <th>4</th>\n      <td>7 Series</td>\n      <td>2014</td>\n      <td>14500</td>\n      <td>Automatic</td>\n      <td>39554</td>\n      <td>Diesel</td>\n      <td>160</td>\n      <td>50.4</td>\n      <td>3.0</td>\n    </tr>\n  </tbody>\n</table>\n</div>"
     },
     "execution_count": 340,
     "metadata": {},
     "output_type": "execute_result"
    }
   ],
   "source": [
    "data_bmw = pd.read_csv('../data/cars/bmw.csv')\n",
    "data_bmw.head()"
   ],
   "metadata": {
    "collapsed": false,
    "ExecuteTime": {
     "end_time": "2024-03-23T07:50:15.139325Z",
     "start_time": "2024-03-23T07:50:15.118016Z"
    }
   },
   "id": "6dc5cddbec0a3f4b",
   "execution_count": 340
  },
  {
   "cell_type": "code",
   "outputs": [
    {
     "data": {
      "text/plain": "   year  price  mileage  tax   mpg  engineSize\n0  2014  11200    67068  125  57.6         2.0\n1  2018  27000    14827  145  42.8         2.0\n2  2016  16000    62794  160  51.4         3.0\n3  2017  12750    26676  145  72.4         1.5\n4  2014  14500    39554  160  50.4         3.0",
      "text/html": "<div>\n<style scoped>\n    .dataframe tbody tr th:only-of-type {\n        vertical-align: middle;\n    }\n\n    .dataframe tbody tr th {\n        vertical-align: top;\n    }\n\n    .dataframe thead th {\n        text-align: right;\n    }\n</style>\n<table border=\"1\" class=\"dataframe\">\n  <thead>\n    <tr style=\"text-align: right;\">\n      <th></th>\n      <th>year</th>\n      <th>price</th>\n      <th>mileage</th>\n      <th>tax</th>\n      <th>mpg</th>\n      <th>engineSize</th>\n    </tr>\n  </thead>\n  <tbody>\n    <tr>\n      <th>0</th>\n      <td>2014</td>\n      <td>11200</td>\n      <td>67068</td>\n      <td>125</td>\n      <td>57.6</td>\n      <td>2.0</td>\n    </tr>\n    <tr>\n      <th>1</th>\n      <td>2018</td>\n      <td>27000</td>\n      <td>14827</td>\n      <td>145</td>\n      <td>42.8</td>\n      <td>2.0</td>\n    </tr>\n    <tr>\n      <th>2</th>\n      <td>2016</td>\n      <td>16000</td>\n      <td>62794</td>\n      <td>160</td>\n      <td>51.4</td>\n      <td>3.0</td>\n    </tr>\n    <tr>\n      <th>3</th>\n      <td>2017</td>\n      <td>12750</td>\n      <td>26676</td>\n      <td>145</td>\n      <td>72.4</td>\n      <td>1.5</td>\n    </tr>\n    <tr>\n      <th>4</th>\n      <td>2014</td>\n      <td>14500</td>\n      <td>39554</td>\n      <td>160</td>\n      <td>50.4</td>\n      <td>3.0</td>\n    </tr>\n  </tbody>\n</table>\n</div>"
     },
     "execution_count": 341,
     "metadata": {},
     "output_type": "execute_result"
    }
   ],
   "source": [
    "data_bmw = data_bmw.drop(columns=['model', 'transmission', 'fuelType'])\n",
    "data_bmw.head()"
   ],
   "metadata": {
    "collapsed": false,
    "ExecuteTime": {
     "end_time": "2024-03-23T07:50:16.854474Z",
     "start_time": "2024-03-23T07:50:16.844504Z"
    }
   },
   "id": "cc1b972493d2a141",
   "execution_count": 341
  },
  {
   "cell_type": "code",
   "outputs": [
    {
     "name": "stdout",
     "output_type": "stream",
     "text": [
      "r2 score: 0.8674485041696555\n"
     ]
    }
   ],
   "source": [
    "X = data_bmw.drop('price', axis=1)\n",
    "y = data_bmw['price']\n",
    "X_train, X_test, y_train, y_test = train_test_split(X, y, test_size=0.2)\n",
    "model = DecisionTreeRegressor()\n",
    "model.fit(X_train, y_train)\n",
    "\n",
    "y_pred = model.predict(X_test)\n",
    "print(\"r2 score:\", r2_score(y_test, y_pred))"
   ],
   "metadata": {
    "collapsed": false,
    "ExecuteTime": {
     "end_time": "2024-03-23T07:50:28.688720Z",
     "start_time": "2024-03-23T07:50:28.623718Z"
    }
   },
   "id": "6fc9971553e42f31",
   "execution_count": 345
  },
  {
   "cell_type": "code",
   "outputs": [
    {
     "data": {
      "text/plain": "            0         1\n0        year  0.452038\n1     mileage  0.106150\n2         tax  0.019261\n3         mpg  0.154018\n4  engineSize  0.268532",
      "text/html": "<div>\n<style scoped>\n    .dataframe tbody tr th:only-of-type {\n        vertical-align: middle;\n    }\n\n    .dataframe tbody tr th {\n        vertical-align: top;\n    }\n\n    .dataframe thead th {\n        text-align: right;\n    }\n</style>\n<table border=\"1\" class=\"dataframe\">\n  <thead>\n    <tr style=\"text-align: right;\">\n      <th></th>\n      <th>0</th>\n      <th>1</th>\n    </tr>\n  </thead>\n  <tbody>\n    <tr>\n      <th>0</th>\n      <td>year</td>\n      <td>0.452038</td>\n    </tr>\n    <tr>\n      <th>1</th>\n      <td>mileage</td>\n      <td>0.106150</td>\n    </tr>\n    <tr>\n      <th>2</th>\n      <td>tax</td>\n      <td>0.019261</td>\n    </tr>\n    <tr>\n      <th>3</th>\n      <td>mpg</td>\n      <td>0.154018</td>\n    </tr>\n    <tr>\n      <th>4</th>\n      <td>engineSize</td>\n      <td>0.268532</td>\n    </tr>\n  </tbody>\n</table>\n</div>"
     },
     "execution_count": 332,
     "metadata": {},
     "output_type": "execute_result"
    }
   ],
   "source": [
    "feature_importance = model.feature_importances_\n",
    "feature_importance_dict = pd.DataFrame(zip(X.columns, feature_importance))\n",
    "feature_importance_dict"
   ],
   "metadata": {
    "collapsed": false,
    "ExecuteTime": {
     "end_time": "2024-03-23T07:48:17.802185Z",
     "start_time": "2024-03-23T07:48:17.794824Z"
    }
   },
   "id": "e798e4be10f996e4",
   "execution_count": 332
  },
  {
   "cell_type": "code",
   "outputs": [
    {
     "data": {
      "text/plain": "<Figure size 640x480 with 1 Axes>",
      "image/png": "[encoded data removed]"
     },
     "metadata": {},
     "output_type": "display_data"
    }
   ],
   "source": [
    "plt.barh(range(len(feature_importance)), feature_importance)\n",
    "plt.yticks(range(len(X.columns)), X.columns)\n",
    "plt.xlabel('Importance')\n",
    "plt.ylabel('Feature')\n",
    "plt.show()"
   ],
   "metadata": {
    "collapsed": false,
    "ExecuteTime": {
     "end_time": "2024-03-23T07:48:20.367989Z",
     "start_time": "2024-03-23T07:48:20.214941Z"
    }
   },
   "id": "e290402ca1e8508",
   "execution_count": 333
  },
  {
   "cell_type": "markdown",
   "source": [
    "### Выводы:\n",
    "Наибольшую значимость для модели имеет признак `year`, чуть меньшую - `engine size`. Остальные признаки `mpg`, `mileage`, `tax` менее значительны "
   ],
   "metadata": {
    "collapsed": false
   },
   "id": "eedb2960175fc765"
  },
  {
   "cell_type": "markdown",
   "source": [
    "## Medium"
   ],
   "metadata": {
    "collapsed": false
   },
   "id": "c279a377d543d7a0"
  },
  {
   "cell_type": "code",
   "outputs": [
    {
     "data": {
      "text/plain": "  model  year  price transmission  mileage fuelType    tax   mpg  engineSize  \\\n0    A1  2017  12500       Manual    15735   Petrol  150.0  55.4         1.4   \n1    A6  2016  16500    Automatic    36203   Diesel   20.0  64.2         2.0   \n2    A1  2016  11000       Manual    29946   Petrol   30.0  55.4         1.4   \n3    A4  2017  16800    Automatic    25952   Diesel  145.0  67.3         2.0   \n4    A3  2019  17300       Manual     1998   Petrol  145.0  49.6         1.0   \n\n   tax(£)  \n0     NaN  \n1     NaN  \n2     NaN  \n3     NaN  \n4     NaN  ",
      "text/html": "<div>\n<style scoped>\n    .dataframe tbody tr th:only-of-type {\n        vertical-align: middle;\n    }\n\n    .dataframe tbody tr th {\n        vertical-align: top;\n    }\n\n    .dataframe thead th {\n        text-align: right;\n    }\n</style>\n<table border=\"1\" class=\"dataframe\">\n  <thead>\n    <tr style=\"text-align: right;\">\n      <th></th>\n      <th>model</th>\n      <th>year</th>\n      <th>price</th>\n      <th>transmission</th>\n      <th>mileage</th>\n      <th>fuelType</th>\n      <th>tax</th>\n      <th>mpg</th>\n      <th>engineSize</th>\n      <th>tax(£)</th>\n    </tr>\n  </thead>\n  <tbody>\n    <tr>\n      <th>0</th>\n      <td>A1</td>\n      <td>2017</td>\n      <td>12500</td>\n      <td>Manual</td>\n      <td>15735</td>\n      <td>Petrol</td>\n      <td>150.0</td>\n      <td>55.4</td>\n      <td>1.4</td>\n      <td>NaN</td>\n    </tr>\n    <tr>\n      <th>1</th>\n      <td>A6</td>\n      <td>2016</td>\n      <td>16500</td>\n      <td>Automatic</td>\n      <td>36203</td>\n      <td>Diesel</td>\n      <td>20.0</td>\n      <td>64.2</td>\n      <td>2.0</td>\n      <td>NaN</td>\n    </tr>\n    <tr>\n      <th>2</th>\n      <td>A1</td>\n      <td>2016</td>\n      <td>11000</td>\n      <td>Manual</td>\n      <td>29946</td>\n      <td>Petrol</td>\n      <td>30.0</td>\n      <td>55.4</td>\n      <td>1.4</td>\n      <td>NaN</td>\n    </tr>\n    <tr>\n      <th>3</th>\n      <td>A4</td>\n      <td>2017</td>\n      <td>16800</td>\n      <td>Automatic</td>\n      <td>25952</td>\n      <td>Diesel</td>\n      <td>145.0</td>\n      <td>67.3</td>\n      <td>2.0</td>\n      <td>NaN</td>\n    </tr>\n    <tr>\n      <th>4</th>\n      <td>A3</td>\n      <td>2019</td>\n      <td>17300</td>\n      <td>Manual</td>\n      <td>1998</td>\n      <td>Petrol</td>\n      <td>145.0</td>\n      <td>49.6</td>\n      <td>1.0</td>\n      <td>NaN</td>\n    </tr>\n  </tbody>\n</table>\n</div>"
     },
     "execution_count": 310,
     "metadata": {},
     "output_type": "execute_result"
    }
   ],
   "source": [
    "all_cars_df = pd.DataFrame()\n",
    "data_folder = '../data/cars'\n",
    "files = os.listdir(data_folder)\n",
    "\n",
    "for file in files:\n",
    "    file_path = os.path.join(data_folder, file)\n",
    "    df = pd.read_csv(file_path)\n",
    "    all_cars_df = pd.concat([all_cars_df, df], ignore_index=True)\n",
    "all_cars_df.head()"
   ],
   "metadata": {
    "collapsed": false,
    "ExecuteTime": {
     "end_time": "2024-03-23T07:35:12.115324Z",
     "start_time": "2024-03-23T07:35:11.456921Z"
    }
   },
   "id": "531f58f5591898f2",
   "execution_count": 310
  },
  {
   "cell_type": "code",
   "outputs": [
    {
     "data": {
      "text/plain": "   year  price  mileage    tax   mpg  engineSize  tax(£)  fuelType_Diesel  \\\n0  2017  12500    15735  150.0  55.4         1.4     NaN                0   \n1  2016  16500    36203   20.0  64.2         2.0     NaN                1   \n2  2016  11000    29946   30.0  55.4         1.4     NaN                0   \n3  2017  16800    25952  145.0  67.3         2.0     NaN                1   \n4  2019  17300     1998  145.0  49.6         1.0     NaN                0   \n\n   fuelType_Electric  fuelType_Hybrid  fuelType_Other  fuelType_Petrol  \\\n0                  0                0               0                1   \n1                  0                0               0                0   \n2                  0                0               0                1   \n3                  0                0               0                0   \n4                  0                0               0                1   \n\n   transmission_Automatic  transmission_Manual  transmission_Other  \\\n0                       0                    1                   0   \n1                       1                    0                   0   \n2                       0                    1                   0   \n3                       1                    0                   0   \n4                       0                    1                   0   \n\n   transmission_Semi-Auto  \n0                       0  \n1                       0  \n2                       0  \n3                       0  \n4                       0  ",
      "text/html": "<div>\n<style scoped>\n    .dataframe tbody tr th:only-of-type {\n        vertical-align: middle;\n    }\n\n    .dataframe tbody tr th {\n        vertical-align: top;\n    }\n\n    .dataframe thead th {\n        text-align: right;\n    }\n</style>\n<table border=\"1\" class=\"dataframe\">\n  <thead>\n    <tr style=\"text-align: right;\">\n      <th></th>\n      <th>year</th>\n      <th>price</th>\n      <th>mileage</th>\n      <th>tax</th>\n      <th>mpg</th>\n      <th>engineSize</th>\n      <th>tax(£)</th>\n      <th>fuelType_Diesel</th>\n      <th>fuelType_Electric</th>\n      <th>fuelType_Hybrid</th>\n      <th>fuelType_Other</th>\n      <th>fuelType_Petrol</th>\n      <th>transmission_Automatic</th>\n      <th>transmission_Manual</th>\n      <th>transmission_Other</th>\n      <th>transmission_Semi-Auto</th>\n    </tr>\n  </thead>\n  <tbody>\n    <tr>\n      <th>0</th>\n      <td>2017</td>\n      <td>12500</td>\n      <td>15735</td>\n      <td>150.0</td>\n      <td>55.4</td>\n      <td>1.4</td>\n      <td>NaN</td>\n      <td>0</td>\n      <td>0</td>\n      <td>0</td>\n      <td>0</td>\n      <td>1</td>\n      <td>0</td>\n      <td>1</td>\n      <td>0</td>\n      <td>0</td>\n    </tr>\n    <tr>\n      <th>1</th>\n      <td>2016</td>\n      <td>16500</td>\n      <td>36203</td>\n      <td>20.0</td>\n      <td>64.2</td>\n      <td>2.0</td>\n      <td>NaN</td>\n      <td>1</td>\n      <td>0</td>\n      <td>0</td>\n      <td>0</td>\n      <td>0</td>\n      <td>1</td>\n      <td>0</td>\n      <td>0</td>\n      <td>0</td>\n    </tr>\n    <tr>\n      <th>2</th>\n      <td>2016</td>\n      <td>11000</td>\n      <td>29946</td>\n      <td>30.0</td>\n      <td>55.4</td>\n      <td>1.4</td>\n      <td>NaN</td>\n      <td>0</td>\n      <td>0</td>\n      <td>0</td>\n      <td>0</td>\n      <td>1</td>\n      <td>0</td>\n      <td>1</td>\n      <td>0</td>\n      <td>0</td>\n    </tr>\n    <tr>\n      <th>3</th>\n      <td>2017</td>\n      <td>16800</td>\n      <td>25952</td>\n      <td>145.0</td>\n      <td>67.3</td>\n      <td>2.0</td>\n      <td>NaN</td>\n      <td>1</td>\n      <td>0</td>\n      <td>0</td>\n      <td>0</td>\n      <td>0</td>\n      <td>1</td>\n      <td>0</td>\n      <td>0</td>\n      <td>0</td>\n    </tr>\n    <tr>\n      <th>4</th>\n      <td>2019</td>\n      <td>17300</td>\n      <td>1998</td>\n      <td>145.0</td>\n      <td>49.6</td>\n      <td>1.0</td>\n      <td>NaN</td>\n      <td>0</td>\n      <td>0</td>\n      <td>0</td>\n      <td>0</td>\n      <td>1</td>\n      <td>0</td>\n      <td>1</td>\n      <td>0</td>\n      <td>0</td>\n    </tr>\n  </tbody>\n</table>\n</div>"
     },
     "execution_count": 311,
     "metadata": {},
     "output_type": "execute_result"
    }
   ],
   "source": [
    "all_cars_df = all_cars_df.drop('model', axis=1) #данные о модели машины нужны только внутри одной марки\n",
    "#вместо удаления можно было бы проиндексировать все уникальные модели\n",
    "all_cars_encoded = pd.get_dummies(all_cars_df, columns=['fuelType', 'transmission'], dtype=int)\n",
    "all_cars_encoded.head()"
   ],
   "metadata": {
    "collapsed": false,
    "ExecuteTime": {
     "end_time": "2024-03-23T07:35:14.618220Z",
     "start_time": "2024-03-23T07:35:14.572470Z"
    }
   },
   "id": "f8f84c3847405517",
   "execution_count": 311
  },
  {
   "cell_type": "code",
   "outputs": [],
   "source": [
    "X = all_cars_encoded.drop('price', axis=1)\n",
    "y = all_cars_encoded['price']\n",
    "X_train, X_test, y_train, y_test = train_test_split(X, y, test_size=0.2)"
   ],
   "metadata": {
    "collapsed": false,
    "ExecuteTime": {
     "end_time": "2024-03-23T07:35:18.535089Z",
     "start_time": "2024-03-23T07:35:18.505317Z"
    }
   },
   "id": "dd3c048e4e430437",
   "execution_count": 312
  },
  {
   "cell_type": "markdown",
   "source": [
    "### Decision tree"
   ],
   "metadata": {
    "collapsed": false
   },
   "id": "ef940456c93d3c00"
  },
  {
   "cell_type": "code",
   "outputs": [
    {
     "name": "stdout",
     "output_type": "stream",
     "text": [
      "Best parameters for decision tree: {'max_depth': 30, 'max_features': 'sqrt', 'min_samples_split': 10}\n"
     ]
    }
   ],
   "source": [
    "param_dt = {\n",
    "    'max_depth': [5, 10, 15, 20, 30],\n",
    "    'max_features': ['sqrt', 'log2'],\n",
    "    'min_samples_split': [2, 5, 8, 10]\n",
    "}\n",
    "\n",
    "model_dt = GridSearchCV(DecisionTreeRegressor(), param_dt, cv=5)\n",
    "model_dt.fit(X_train, y_train)\n",
    "print(f\"Best parameters for decision tree: {model_dt.best_params_}\")"
   ],
   "metadata": {
    "collapsed": false,
    "ExecuteTime": {
     "end_time": "2024-03-23T07:37:59.488011Z",
     "start_time": "2024-03-23T07:37:50.013784Z"
    }
   },
   "id": "779d7b71219baad8",
   "execution_count": 317
  },
  {
   "cell_type": "code",
   "outputs": [
    {
     "name": "stdout",
     "output_type": "stream",
     "text": [
      "r2 score для Decision Tree: 0.45610533912884466\n"
     ]
    }
   ],
   "source": [
    "model_dt.best_estimator_.fit(X_train, y_train)\n",
    "pred_dt = model_dt.best_estimator_.predict(X_test)\n",
    "print(f'r2 score для Decision Tree: {r2_score(y_test, pred_dt)}')"
   ],
   "metadata": {
    "collapsed": false,
    "ExecuteTime": {
     "end_time": "2024-03-23T07:38:12.135973Z",
     "start_time": "2024-03-23T07:38:12.086729Z"
    }
   },
   "id": "25a8b8ac66459012",
   "execution_count": 318
  },
  {
   "cell_type": "markdown",
   "source": [
    "### Random forest"
   ],
   "metadata": {
    "collapsed": false
   },
   "id": "6e0e47b07ebff564"
  },
  {
   "cell_type": "code",
   "outputs": [],
   "source": [
    "X = all_cars_encoded.drop('price', axis=1)\n",
    "y = all_cars_encoded['price']\n",
    "X_train, X_test, y_train, y_test = train_test_split(X, y, test_size=0.2)\n",
    "X_train.fillna(0, inplace=True)\n",
    "X_test.fillna(0, inplace=True)"
   ],
   "metadata": {
    "collapsed": false,
    "ExecuteTime": {
     "end_time": "2024-03-23T02:18:58.321802Z",
     "start_time": "2024-03-23T02:18:58.295540Z"
    }
   },
   "id": "cd5e6688ae01e6c6",
   "execution_count": 296
  },
  {
   "cell_type": "code",
   "outputs": [
    {
     "name": "stdout",
     "output_type": "stream",
     "text": [
      "Best parameters for random forest: {'max_depth': 20, 'min_samples_split': 10, 'n_estimators': 200}\n",
      "CPU times: total: 1h 7min 20s\n",
      "Wall time: 1h 7min 27s\n"
     ]
    }
   ],
   "source": [
    "%%time\n",
    "param_rf = {\n",
    "    'n_estimators': [100, 200],\n",
    "    'max_depth': [10, 20, 30],\n",
    "    'min_samples_split': [2, 5, 10]\n",
    "}\n",
    "model_rf = GridSearchCV(RandomForestRegressor(), param_rf, cv=5)\n",
    "model_rf.fit(X_train, y_train)\n",
    "\n",
    "print(f\"Best parameters for random forest: {model_rf.best_params_}\")"
   ],
   "metadata": {
    "collapsed": false,
    "ExecuteTime": {
     "end_time": "2024-03-23T03:26:26.023399Z",
     "start_time": "2024-03-23T02:18:58.323813Z"
    }
   },
   "id": "fc5ef62ba27a233e",
   "execution_count": 297
  },
  {
   "cell_type": "code",
   "outputs": [
    {
     "name": "stdout",
     "output_type": "stream",
     "text": [
      "r2 score для random forest: 0.9233136650295353\n"
     ]
    }
   ],
   "source": [
    "pred_rf = model_rf.best_estimator_.predict(X_test)\n",
    "print(f'r2 score для random forest: {r2_score(y_test, pred_rf)}')"
   ],
   "metadata": {
    "collapsed": false,
    "ExecuteTime": {
     "end_time": "2024-03-23T03:26:27.002964Z",
     "start_time": "2024-03-23T03:26:26.024409Z"
    }
   },
   "id": "773fd25d92871ed9",
   "execution_count": 298
  },
  {
   "cell_type": "markdown",
   "source": [
    "### Выводы:\n",
    "Desicion tree работает намного быстрее и выдает средние результаты.\n",
    " \n",
    "Random forest работает намного дольше на всех данных, но дает точные результаты."
   ],
   "metadata": {
    "collapsed": false
   },
   "id": "9093d2b22644250d"
  }
 ],
 "metadata": {
  "kernelspec": {
   "display_name": "Python 3",
   "language": "python",
   "name": "python3"
  },
  "language_info": {
   "codemirror_mode": {
    "name": "ipython",
    "version": 2
   },
   "file_extension": ".py",
   "mimetype": "text/x-python",
   "name": "python",
   "nbconvert_exporter": "python",
   "pygments_lexer": "ipython2",
   "version": "2.7.6"
  }
 },
 "nbformat": 4,
 "nbformat_minor": 5
}
