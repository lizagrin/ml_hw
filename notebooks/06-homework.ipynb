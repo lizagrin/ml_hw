{
 "cells": [
  {
   "cell_type": "markdown",
   "source": [
    "# Дз 6\n",
    "## Easy"
   ],
   "metadata": {
    "collapsed": false
   },
   "id": "55dfc03cff6fb370"
  },
  {
   "cell_type": "code",
   "outputs": [],
   "source": [
    "import pandas as pd\n",
    "import re\n",
    "from sklearn.feature_extraction.text import TfidfVectorizer\n",
    "from sklearn.model_selection import train_test_split\n",
    "from sklearn.linear_model import LogisticRegression\n",
    "from sklearn.ensemble import RandomForestClassifier\n",
    "from sklearn.feature_extraction.text import CountVectorizer\n",
    "from sklearn.metrics import f1_score\n",
    "import warnings\n",
    "\n",
    "warnings.filterwarnings(action='ignore')"
   ],
   "metadata": {
    "collapsed": false,
    "ExecuteTime": {
     "end_time": "2024-05-17T20:21:27.366725Z",
     "start_time": "2024-05-17T20:21:27.362152Z"
    }
   },
   "id": "b479947a99b38850",
   "execution_count": 105
  },
  {
   "cell_type": "code",
   "outputs": [
    {
     "data": {
      "text/plain": "              published_date published_platform  rating    type  \\\n0  2024-03-12T14:41:14-04:00            Desktop       3  review   \n1  2024-03-11T19:39:13-04:00            Desktop       5  review   \n2  2024-03-11T12:20:23-04:00            Desktop       1  review   \n3  2024-03-11T07:12:27-04:00            Desktop       5  review   \n4  2024-03-10T05:34:18-04:00            Desktop       2  review   \n\n                                                text  \\\n0  We used this airline to go from Singapore to L...   \n1  The service on Singapore Airlines Suites Class...   \n2  Booked, paid and received email confirmation f...   \n3  Best airline in the world, seats, food, servic...   \n4  Premium Economy Seating on Singapore Airlines ...   \n\n                                               title  helpful_votes  \n0                                                 Ok              0  \n1  The service in Suites Class makes one feel lik...              0  \n2                         Don’t give them your money              0  \n3                          Best Airline in the World              0  \n4  Premium Economy Seating on Singapore Airlines ...              0  ",
      "text/html": "<div>\n<style scoped>\n    .dataframe tbody tr th:only-of-type {\n        vertical-align: middle;\n    }\n\n    .dataframe tbody tr th {\n        vertical-align: top;\n    }\n\n    .dataframe thead th {\n        text-align: right;\n    }\n</style>\n<table border=\"1\" class=\"dataframe\">\n  <thead>\n    <tr style=\"text-align: right;\">\n      <th></th>\n      <th>published_date</th>\n      <th>published_platform</th>\n      <th>rating</th>\n      <th>type</th>\n      <th>text</th>\n      <th>title</th>\n      <th>helpful_votes</th>\n    </tr>\n  </thead>\n  <tbody>\n    <tr>\n      <th>0</th>\n      <td>2024-03-12T14:41:14-04:00</td>\n      <td>Desktop</td>\n      <td>3</td>\n      <td>review</td>\n      <td>We used this airline to go from Singapore to L...</td>\n      <td>Ok</td>\n      <td>0</td>\n    </tr>\n    <tr>\n      <th>1</th>\n      <td>2024-03-11T19:39:13-04:00</td>\n      <td>Desktop</td>\n      <td>5</td>\n      <td>review</td>\n      <td>The service on Singapore Airlines Suites Class...</td>\n      <td>The service in Suites Class makes one feel lik...</td>\n      <td>0</td>\n    </tr>\n    <tr>\n      <th>2</th>\n      <td>2024-03-11T12:20:23-04:00</td>\n      <td>Desktop</td>\n      <td>1</td>\n      <td>review</td>\n      <td>Booked, paid and received email confirmation f...</td>\n      <td>Don’t give them your money</td>\n      <td>0</td>\n    </tr>\n    <tr>\n      <th>3</th>\n      <td>2024-03-11T07:12:27-04:00</td>\n      <td>Desktop</td>\n      <td>5</td>\n      <td>review</td>\n      <td>Best airline in the world, seats, food, servic...</td>\n      <td>Best Airline in the World</td>\n      <td>0</td>\n    </tr>\n    <tr>\n      <th>4</th>\n      <td>2024-03-10T05:34:18-04:00</td>\n      <td>Desktop</td>\n      <td>2</td>\n      <td>review</td>\n      <td>Premium Economy Seating on Singapore Airlines ...</td>\n      <td>Premium Economy Seating on Singapore Airlines ...</td>\n      <td>0</td>\n    </tr>\n  </tbody>\n</table>\n</div>"
     },
     "execution_count": 106,
     "metadata": {},
     "output_type": "execute_result"
    }
   ],
   "source": [
    "df = pd.read_csv('../data/singapore_airlines_reviews.csv')\n",
    "df.head()"
   ],
   "metadata": {
    "collapsed": false,
    "ExecuteTime": {
     "end_time": "2024-05-17T20:21:27.541037Z",
     "start_time": "2024-05-17T20:21:27.430736Z"
    }
   },
   "id": "9aaf42e8cf72865",
   "execution_count": 106
  },
  {
   "cell_type": "code",
   "outputs": [],
   "source": [
    "df.drop(columns=['type'], inplace=True)\n",
    "\n",
    "\n",
    "def clean_text(text):\n",
    "    text = str(text)\n",
    "    text = re.sub(r'[().,?!-:]', '', text)\n",
    "    return text"
   ],
   "metadata": {
    "collapsed": false,
    "ExecuteTime": {
     "end_time": "2024-05-17T20:21:27.548755Z",
     "start_time": "2024-05-17T20:21:27.542049Z"
    }
   },
   "id": "a035b0c693883263",
   "execution_count": 107
  },
  {
   "cell_type": "code",
   "outputs": [
    {
     "data": {
      "text/plain": "                                            all text  rating_bin\n0  Ok We used this airline to go from Singapore t...           0\n1  The service in Suites Class makes one feel lik...           1\n2  Don’t give them your money Booked paid and rec...           0\n3  Best Airline in the World Best airline in the ...           1\n4  Premium Economy Seating on Singapore Airlines ...           0",
      "text/html": "<div>\n<style scoped>\n    .dataframe tbody tr th:only-of-type {\n        vertical-align: middle;\n    }\n\n    .dataframe tbody tr th {\n        vertical-align: top;\n    }\n\n    .dataframe thead th {\n        text-align: right;\n    }\n</style>\n<table border=\"1\" class=\"dataframe\">\n  <thead>\n    <tr style=\"text-align: right;\">\n      <th></th>\n      <th>all text</th>\n      <th>rating_bin</th>\n    </tr>\n  </thead>\n  <tbody>\n    <tr>\n      <th>0</th>\n      <td>Ok We used this airline to go from Singapore t...</td>\n      <td>0</td>\n    </tr>\n    <tr>\n      <th>1</th>\n      <td>The service in Suites Class makes one feel lik...</td>\n      <td>1</td>\n    </tr>\n    <tr>\n      <th>2</th>\n      <td>Don’t give them your money Booked paid and rec...</td>\n      <td>0</td>\n    </tr>\n    <tr>\n      <th>3</th>\n      <td>Best Airline in the World Best airline in the ...</td>\n      <td>1</td>\n    </tr>\n    <tr>\n      <th>4</th>\n      <td>Premium Economy Seating on Singapore Airlines ...</td>\n      <td>0</td>\n    </tr>\n  </tbody>\n</table>\n</div>"
     },
     "execution_count": 108,
     "metadata": {},
     "output_type": "execute_result"
    }
   ],
   "source": [
    "df['title'] = df['title'].apply(clean_text)\n",
    "df['text'] = df['text'].apply(clean_text)\n",
    "df['all text'] = df['title'] + ' ' + df['text']\n",
    "# Сделаем рейтинг бинарным: 1 - это оценки 3, 4, 5; 0 - это 1, 2\n",
    "df['rating_bin'] = df['rating'].apply(lambda x: int(x > 3))\n",
    "new_df = df[['all text', 'rating_bin']]\n",
    "new_df.head()"
   ],
   "metadata": {
    "collapsed": false,
    "ExecuteTime": {
     "end_time": "2024-05-17T20:21:27.683375Z",
     "start_time": "2024-05-17T20:21:27.549762Z"
    }
   },
   "id": "9cb6f5dd514656b3",
   "execution_count": 108
  },
  {
   "cell_type": "code",
   "outputs": [
    {
     "data": {
      "text/plain": "    Feature               Model       Vectorizer  F1 Score\n3  all text  LogisticRegression  TfidfVectorizer  0.913585\n0  all text  LogisticRegression  CountVectorizer  0.907692\n5      text  LogisticRegression  TfidfVectorizer  0.901082\n2      text  LogisticRegression  CountVectorizer  0.898028\n1     title  LogisticRegression  CountVectorizer  0.868887\n4     title  LogisticRegression  TfidfVectorizer  0.868467",
      "text/html": "<div>\n<style scoped>\n    .dataframe tbody tr th:only-of-type {\n        vertical-align: middle;\n    }\n\n    .dataframe tbody tr th {\n        vertical-align: top;\n    }\n\n    .dataframe thead th {\n        text-align: right;\n    }\n</style>\n<table border=\"1\" class=\"dataframe\">\n  <thead>\n    <tr style=\"text-align: right;\">\n      <th></th>\n      <th>Feature</th>\n      <th>Model</th>\n      <th>Vectorizer</th>\n      <th>F1 Score</th>\n    </tr>\n  </thead>\n  <tbody>\n    <tr>\n      <th>3</th>\n      <td>all text</td>\n      <td>LogisticRegression</td>\n      <td>TfidfVectorizer</td>\n      <td>0.913585</td>\n    </tr>\n    <tr>\n      <th>0</th>\n      <td>all text</td>\n      <td>LogisticRegression</td>\n      <td>CountVectorizer</td>\n      <td>0.907692</td>\n    </tr>\n    <tr>\n      <th>5</th>\n      <td>text</td>\n      <td>LogisticRegression</td>\n      <td>TfidfVectorizer</td>\n      <td>0.901082</td>\n    </tr>\n    <tr>\n      <th>2</th>\n      <td>text</td>\n      <td>LogisticRegression</td>\n      <td>CountVectorizer</td>\n      <td>0.898028</td>\n    </tr>\n    <tr>\n      <th>1</th>\n      <td>title</td>\n      <td>LogisticRegression</td>\n      <td>CountVectorizer</td>\n      <td>0.868887</td>\n    </tr>\n    <tr>\n      <th>4</th>\n      <td>title</td>\n      <td>LogisticRegression</td>\n      <td>TfidfVectorizer</td>\n      <td>0.868467</td>\n    </tr>\n  </tbody>\n</table>\n</div>"
     },
     "execution_count": 109,
     "metadata": {},
     "output_type": "execute_result"
    }
   ],
   "source": [
    "train_reviews, test_reviews = train_test_split(df, random_state=42)\n",
    "evaluation_results = []\n",
    "text_features = ['all text', 'title', 'text']\n",
    "model = LogisticRegression()\n",
    "vectorizer_list = [CountVectorizer(), TfidfVectorizer()]\n",
    "for vectorizer in vectorizer_list:\n",
    "    for feature in text_features:\n",
    "        X_train = vectorizer.fit_transform(train_reviews[feature])\n",
    "        X_test = vectorizer.transform(test_reviews[feature])\n",
    "        y_train = train_reviews['rating_bin']\n",
    "        y_test = test_reviews['rating_bin']\n",
    "\n",
    "        model_instance = model\n",
    "        model_instance.fit(X_train, y_train)\n",
    "        predictions = model_instance.predict(X_test)\n",
    "\n",
    "        f1 = f1_score(predictions, y_test, average=\"weighted\")\n",
    "        evaluation_results.append((feature, model.__class__.__name__, vectorizer.__class__.__name__, f1))\n",
    "\n",
    "results_df = pd.DataFrame(evaluation_results, columns=['Feature', 'Model', 'Vectorizer', 'F1 Score'])\n",
    "results_df = results_df.sort_values(by='F1 Score', ascending=False)\n",
    "results_df"
   ],
   "metadata": {
    "collapsed": false,
    "ExecuteTime": {
     "end_time": "2024-05-17T20:21:32.193441Z",
     "start_time": "2024-05-17T20:21:27.686385Z"
    }
   },
   "id": "a20eb6a7a924332b",
   "execution_count": 109
  },
  {
   "cell_type": "markdown",
   "source": [
    "#### Лучший результат"
   ],
   "metadata": {
    "collapsed": false
   },
   "id": "b74863cfbb21c68d"
  },
  {
   "cell_type": "code",
   "outputs": [
    {
     "data": {
      "text/plain": "Feature                 all text\nModel         LogisticRegression\nVectorizer       TfidfVectorizer\nF1 Score                0.913585\nName: 3, dtype: object"
     },
     "execution_count": 110,
     "metadata": {},
     "output_type": "execute_result"
    }
   ],
   "source": [
    "best_result = results_df.iloc[0]\n",
    "best_result"
   ],
   "metadata": {
    "collapsed": false,
    "ExecuteTime": {
     "end_time": "2024-05-17T20:21:32.202312Z",
     "start_time": "2024-05-17T20:21:32.194449Z"
    }
   },
   "id": "717073a70ae32118",
   "execution_count": 110
  },
  {
   "cell_type": "markdown",
   "source": [
    "## Medium"
   ],
   "metadata": {
    "collapsed": false
   },
   "id": "a0f9b75707dd1664"
  },
  {
   "cell_type": "code",
   "outputs": [],
   "source": [
    "import spacy\n",
    "from sklearn.model_selection import GridSearchCV\n",
    "from sklearn.svm import SVC\n",
    "from nltk import PorterStemmer\n",
    "from nltk.corpus import stopwords\n",
    "import nltk"
   ],
   "metadata": {
    "collapsed": false,
    "ExecuteTime": {
     "end_time": "2024-05-17T20:21:32.215663Z",
     "start_time": "2024-05-17T20:21:32.203319Z"
    }
   },
   "id": "da3641f274bf81aa",
   "execution_count": 111
  },
  {
   "cell_type": "code",
   "outputs": [
    {
     "name": "stderr",
     "output_type": "stream",
     "text": [
      "[nltk_data] Downloading package stopwords to\n",
      "[nltk_data]     C:\\Users\\lizag\\AppData\\Roaming\\nltk_data...\n",
      "[nltk_data]   Package stopwords is already up-to-date!\n"
     ]
    }
   ],
   "source": [
    "nltk.download('stopwords')\n",
    "stop_words = set(stopwords.words('english'))\n",
    "stemmer = PorterStemmer()\n",
    "nlp = spacy.load('en_core_web_sm')"
   ],
   "metadata": {
    "collapsed": false,
    "ExecuteTime": {
     "end_time": "2024-05-17T20:21:36.601680Z",
     "start_time": "2024-05-17T20:21:32.216671Z"
    }
   },
   "id": "9875220d05e0aaad",
   "execution_count": 112
  },
  {
   "cell_type": "markdown",
   "source": [
    "#### Удаление стоп-слов, стемминг, лемматизация"
   ],
   "metadata": {
    "collapsed": false
   },
   "id": "62281e7ff296befd"
  },
  {
   "cell_type": "code",
   "outputs": [
    {
     "data": {
      "text/plain": "0    use airlin go singapor london heathrow issu ti...\n1    servic singapor airlin suit class noth excel c...\n2    book pay receiv email confirm extra legroom se...\n3    good airlin world seat food servic brilliant c...\n4    premium economi seat singapor airlin narrow se...\nName: processed_text, dtype: object"
     },
     "execution_count": 113,
     "metadata": {},
     "output_type": "execute_result"
    }
   ],
   "source": [
    "def preprocess_text(text):\n",
    "    words = [word for word in text.split() if word.lower() not in stop_words]\n",
    "    stem_words = [stemmer.stem(word) for word in words]\n",
    "    doc = nlp(\" \".join(stem_words))\n",
    "    lem_words = [token.lemma_ for token in doc]\n",
    "    return \" \".join(lem_words)\n",
    "\n",
    "\n",
    "df['processed_text'] = df['text'].apply(preprocess_text)\n",
    "df['processed_text'].head()"
   ],
   "metadata": {
    "collapsed": false,
    "ExecuteTime": {
     "end_time": "2024-05-17T20:23:14.529260Z",
     "start_time": "2024-05-17T20:21:36.603641Z"
    }
   },
   "id": "4a2bbacb86639b0c",
   "execution_count": 113
  },
  {
   "cell_type": "code",
   "outputs": [],
   "source": [
    "train_reviews, test_reviews = train_test_split(df, random_state=42)\n",
    "\n",
    "vectorizer = TfidfVectorizer()\n",
    "X_train = vectorizer.fit_transform(train_reviews['processed_text'])\n",
    "X_test = vectorizer.transform(test_reviews['processed_text'])\n",
    "y_train = train_reviews['rating']\n",
    "y_test = test_reviews['rating']\n",
    "evaluation_results = []"
   ],
   "metadata": {
    "collapsed": false,
    "ExecuteTime": {
     "end_time": "2024-05-17T20:23:14.963618Z",
     "start_time": "2024-05-17T20:23:14.530272Z"
    }
   },
   "id": "97638fbb735fe270",
   "execution_count": 114
  },
  {
   "cell_type": "markdown",
   "source": [
    "#### Модели и параметры"
   ],
   "metadata": {
    "collapsed": false
   },
   "id": "b222e814c020e5d6"
  },
  {
   "cell_type": "code",
   "outputs": [],
   "source": [
    "models = {\n",
    "    'LogisticRegression': LogisticRegression(),\n",
    "    'SVC': SVC(),\n",
    "    'RandomForestClassifier': RandomForestClassifier()\n",
    "}\n",
    "\n",
    "params = {\n",
    "    'LogisticRegression': {'C': [1, 3, 10]},\n",
    "    'SVC': {'C': [1, 3, 10], 'kernel': ['linear', 'poly', 'rbf']},\n",
    "    'RandomForestClassifier': {'n_estimators': [5, 50, 100]}\n",
    "}"
   ],
   "metadata": {
    "collapsed": false,
    "ExecuteTime": {
     "end_time": "2024-05-17T20:23:14.970975Z",
     "start_time": "2024-05-17T20:23:14.965631Z"
    }
   },
   "id": "6d0896f18d44d5ff",
   "execution_count": 115
  },
  {
   "cell_type": "code",
   "outputs": [
    {
     "data": {
      "text/plain": "                    Model                                    Best parameters  \\\n1                     SVC  {'C': 1, 'break_ties': False, 'cache_size': 20...   \n0      LogisticRegression  {'C': 3, 'class_weight': None, 'dual': False, ...   \n2  RandomForestClassifier  {'bootstrap': True, 'ccp_alpha': 0.0, 'class_w...   \n\n   F1 Score  \n1  0.701027  \n0  0.670260  \n2  0.582248  ",
      "text/html": "<div>\n<style scoped>\n    .dataframe tbody tr th:only-of-type {\n        vertical-align: middle;\n    }\n\n    .dataframe tbody tr th {\n        vertical-align: top;\n    }\n\n    .dataframe thead th {\n        text-align: right;\n    }\n</style>\n<table border=\"1\" class=\"dataframe\">\n  <thead>\n    <tr style=\"text-align: right;\">\n      <th></th>\n      <th>Model</th>\n      <th>Best parameters</th>\n      <th>F1 Score</th>\n    </tr>\n  </thead>\n  <tbody>\n    <tr>\n      <th>1</th>\n      <td>SVC</td>\n      <td>{'C': 1, 'break_ties': False, 'cache_size': 20...</td>\n      <td>0.701027</td>\n    </tr>\n    <tr>\n      <th>0</th>\n      <td>LogisticRegression</td>\n      <td>{'C': 3, 'class_weight': None, 'dual': False, ...</td>\n      <td>0.670260</td>\n    </tr>\n    <tr>\n      <th>2</th>\n      <td>RandomForestClassifier</td>\n      <td>{'bootstrap': True, 'ccp_alpha': 0.0, 'class_w...</td>\n      <td>0.582248</td>\n    </tr>\n  </tbody>\n</table>\n</div>"
     },
     "execution_count": 116,
     "metadata": {},
     "output_type": "execute_result"
    }
   ],
   "source": [
    "for model_name in models:\n",
    "    model = models[model_name]\n",
    "    param_grid = params[model_name]\n",
    "\n",
    "    grid_search = GridSearchCV(model, param_grid, cv=3, scoring='f1_weighted')\n",
    "    grid_search.fit(X_train, y_train)\n",
    "\n",
    "    best_model = grid_search.best_estimator_\n",
    "    predictions = best_model.predict(X_test)\n",
    "\n",
    "    f1 = f1_score(predictions, y_test, average=\"weighted\")\n",
    "    evaluation_results.append((model_name, best_model.get_params(), f1))\n",
    "\n",
    "res_df = pd.DataFrame(evaluation_results, columns=['Model', 'Best parameters', 'F1 Score'])\n",
    "res_df = res_df.sort_values(by='F1 Score', ascending=False)\n",
    "res_df"
   ],
   "metadata": {
    "collapsed": false,
    "ExecuteTime": {
     "end_time": "2024-05-17T20:32:24.811757Z",
     "start_time": "2024-05-17T20:23:14.971982Z"
    }
   },
   "id": "8f3ad2df83fcaeb8",
   "execution_count": 116
  },
  {
   "cell_type": "markdown",
   "source": [
    "#### Лучший результат"
   ],
   "metadata": {
    "collapsed": false
   },
   "id": "c2cafa3d0b6fbffa"
  },
  {
   "cell_type": "code",
   "outputs": [
    {
     "data": {
      "text/plain": "Model                                                            SVC\nBest parameters    {'C': 1, 'break_ties': False, 'cache_size': 20...\nF1 Score                                                    0.701027\nName: 1, dtype: object"
     },
     "execution_count": 117,
     "metadata": {},
     "output_type": "execute_result"
    }
   ],
   "source": [
    "best_res = res_df.iloc[0]\n",
    "best_res"
   ],
   "metadata": {
    "collapsed": false,
    "ExecuteTime": {
     "end_time": "2024-05-17T20:32:24.820017Z",
     "start_time": "2024-05-17T20:32:24.812767Z"
    }
   },
   "id": "3e8a2730ccba0ee3",
   "execution_count": 117
  },
  {
   "cell_type": "markdown",
   "source": [
    "#### Тестирование модели"
   ],
   "metadata": {
    "collapsed": false
   },
   "id": "31e1b5cd9962f499"
  },
  {
   "cell_type": "code",
   "outputs": [
    {
     "name": "stdout",
     "output_type": "stream",
     "text": [
      "Отзыв: Well-placed signs at the airport, delicious drinks on board, friendly staff. Предсказанный рейтинг: 5\n",
      "Отзыв: Disgusting food and terribly long wait for an stewardess. Предсказанный рейтинг: 1\n"
     ]
    }
   ],
   "source": [
    "best_model_name = best_res['Model']\n",
    "best_model_params = best_res['Best parameters']\n",
    "\n",
    "best_model = models[best_model_name]\n",
    "best_model.set_params(**best_model_params)\n",
    "best_model.fit(X_train, y_train)\n",
    "\n",
    "new_reviews = [\n",
    "    \"Well-placed signs at the airport, delicious drinks on board, friendly staff\",\n",
    "    \"Disgusting food and terribly long wait for an stewardess\"\n",
    "]\n",
    "\n",
    "new_reviews_processed = [preprocess_text(review) for review in new_reviews]\n",
    "new_reviews_vectorized = vectorizer.transform(new_reviews_processed)\n",
    "predictions_new_reviews = best_model.predict(new_reviews_vectorized)\n",
    "\n",
    "for review, rating in zip(new_reviews, predictions_new_reviews):\n",
    "    print(f\"Отзыв: {review}. Предсказанный рейтинг: {rating}\")"
   ],
   "metadata": {
    "collapsed": false,
    "ExecuteTime": {
     "end_time": "2024-05-17T20:40:48.958464Z",
     "start_time": "2024-05-17T20:40:33.148587Z"
    }
   },
   "id": "24efcbba85e4820a",
   "execution_count": 125
  }
 ],
 "metadata": {
  "kernelspec": {
   "display_name": "Python 3",
   "language": "python",
   "name": "python3"
  },
  "language_info": {
   "codemirror_mode": {
    "name": "ipython",
    "version": 2
   },
   "file_extension": ".py",
   "mimetype": "text/x-python",
   "name": "python",
   "nbconvert_exporter": "python",
   "pygments_lexer": "ipython2",
   "version": "2.7.6"
  }
 },
 "nbformat": 4,
 "nbformat_minor": 5
}
