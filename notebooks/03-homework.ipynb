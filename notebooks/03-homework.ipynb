{
 "cells": [
  {
   "cell_type": "markdown",
   "source": [
    "## Дз 3"
   ],
   "metadata": {
    "collapsed": false
   },
   "id": "4f767963ddef450e"
  },
  {
   "cell_type": "markdown",
   "source": [
    "### Easy\n",
    "#### 1. Загрузка данных"
   ],
   "metadata": {
    "collapsed": false
   },
   "id": "8866e744dcfe76da"
  },
  {
   "cell_type": "code",
   "outputs": [],
   "source": [
    "import csv\n",
    "import numpy as np\n",
    "import random\n",
    "import pandas as pd\n",
    "import matplotlib.pyplot as plt\n",
    "\n",
    "from sklearn.metrics import accuracy_score, confusion_matrix, precision_score, recall_score\n",
    "from sklearn.model_selection import train_test_split\n",
    "from sklearn.linear_model import LogisticRegression\n",
    "from sklearn.neighbors import KNeighborsClassifier\n",
    "from sklearn.naive_bayes import GaussianNB\n",
    "from sklearn.svm import SVC\n",
    "from sklearn.metrics import f1_score\n",
    "from matplotlib.colors import ListedColormap\n",
    "import seaborn as sns"
   ],
   "metadata": {
    "collapsed": false,
    "ExecuteTime": {
     "end_time": "2024-03-05T17:02:44.246844Z",
     "start_time": "2024-03-05T17:02:43.579194Z"
    }
   },
   "id": "fd3a5cd788a2f0ea",
   "execution_count": 2
  },
  {
   "cell_type": "code",
   "outputs": [],
   "source": [
    "data = pd.read_pickle('../data/train.pickle')\n",
    "\n",
    "x = data['features']\n",
    "y = data['labels']\n",
    "x = x.reshape(x.shape[0], -1)\n",
    "x_train, x_test, y_train, y_test = train_test_split(x, y, test_size=0.2)"
   ],
   "metadata": {
    "collapsed": false,
    "ExecuteTime": {
     "end_time": "2024-03-05T17:02:44.356647Z",
     "start_time": "2024-03-05T17:02:44.248851Z"
    }
   },
   "id": "bb83b65080dd2672",
   "execution_count": 3
  },
  {
   "cell_type": "markdown",
   "source": [
    "#### 2. Обучение модели"
   ],
   "metadata": {
    "collapsed": false
   },
   "id": "3d26e8d910fa8482"
  },
  {
   "cell_type": "code",
   "outputs": [
    {
     "name": "stderr",
     "output_type": "stream",
     "text": [
      "C:\\Users\\lizag\\anaconda3\\Lib\\site-packages\\sklearn\\linear_model\\_logistic.py:460: ConvergenceWarning: lbfgs failed to converge (status=1):\n",
      "STOP: TOTAL NO. of ITERATIONS REACHED LIMIT.\n",
      "\n",
      "Increase the number of iterations (max_iter) or scale the data as shown in:\n",
      "    https://scikit-learn.org/stable/modules/preprocessing.html\n",
      "Please also refer to the documentation for alternative solver options:\n",
      "    https://scikit-learn.org/stable/modules/linear_model.html#logistic-regression\n",
      "  n_iter_i = _check_optimize_result(\n"
     ]
    },
    {
     "data": {
      "text/plain": "LogisticRegression(max_iter=1000)",
      "text/html": "<style>#sk-container-id-1 {color: black;}#sk-container-id-1 pre{padding: 0;}#sk-container-id-1 div.sk-toggleable {background-color: white;}#sk-container-id-1 label.sk-toggleable__label {cursor: pointer;display: block;width: 100%;margin-bottom: 0;padding: 0.3em;box-sizing: border-box;text-align: center;}#sk-container-id-1 label.sk-toggleable__label-arrow:before {content: \"▸\";float: left;margin-right: 0.25em;color: #696969;}#sk-container-id-1 label.sk-toggleable__label-arrow:hover:before {color: black;}#sk-container-id-1 div.sk-estimator:hover label.sk-toggleable__label-arrow:before {color: black;}#sk-container-id-1 div.sk-toggleable__content {max-height: 0;max-width: 0;overflow: hidden;text-align: left;background-color: #f0f8ff;}#sk-container-id-1 div.sk-toggleable__content pre {margin: 0.2em;color: black;border-radius: 0.25em;background-color: #f0f8ff;}#sk-container-id-1 input.sk-toggleable__control:checked~div.sk-toggleable__content {max-height: 200px;max-width: 100%;overflow: auto;}#sk-container-id-1 input.sk-toggleable__control:checked~label.sk-toggleable__label-arrow:before {content: \"▾\";}#sk-container-id-1 div.sk-estimator input.sk-toggleable__control:checked~label.sk-toggleable__label {background-color: #d4ebff;}#sk-container-id-1 div.sk-label input.sk-toggleable__control:checked~label.sk-toggleable__label {background-color: #d4ebff;}#sk-container-id-1 input.sk-hidden--visually {border: 0;clip: rect(1px 1px 1px 1px);clip: rect(1px, 1px, 1px, 1px);height: 1px;margin: -1px;overflow: hidden;padding: 0;position: absolute;width: 1px;}#sk-container-id-1 div.sk-estimator {font-family: monospace;background-color: #f0f8ff;border: 1px dotted black;border-radius: 0.25em;box-sizing: border-box;margin-bottom: 0.5em;}#sk-container-id-1 div.sk-estimator:hover {background-color: #d4ebff;}#sk-container-id-1 div.sk-parallel-item::after {content: \"\";width: 100%;border-bottom: 1px solid gray;flex-grow: 1;}#sk-container-id-1 div.sk-label:hover label.sk-toggleable__label {background-color: #d4ebff;}#sk-container-id-1 div.sk-serial::before {content: \"\";position: absolute;border-left: 1px solid gray;box-sizing: border-box;top: 0;bottom: 0;left: 50%;z-index: 0;}#sk-container-id-1 div.sk-serial {display: flex;flex-direction: column;align-items: center;background-color: white;padding-right: 0.2em;padding-left: 0.2em;position: relative;}#sk-container-id-1 div.sk-item {position: relative;z-index: 1;}#sk-container-id-1 div.sk-parallel {display: flex;align-items: stretch;justify-content: center;background-color: white;position: relative;}#sk-container-id-1 div.sk-item::before, #sk-container-id-1 div.sk-parallel-item::before {content: \"\";position: absolute;border-left: 1px solid gray;box-sizing: border-box;top: 0;bottom: 0;left: 50%;z-index: -1;}#sk-container-id-1 div.sk-parallel-item {display: flex;flex-direction: column;z-index: 1;position: relative;background-color: white;}#sk-container-id-1 div.sk-parallel-item:first-child::after {align-self: flex-end;width: 50%;}#sk-container-id-1 div.sk-parallel-item:last-child::after {align-self: flex-start;width: 50%;}#sk-container-id-1 div.sk-parallel-item:only-child::after {width: 0;}#sk-container-id-1 div.sk-dashed-wrapped {border: 1px dashed gray;margin: 0 0.4em 0.5em 0.4em;box-sizing: border-box;padding-bottom: 0.4em;background-color: white;}#sk-container-id-1 div.sk-label label {font-family: monospace;font-weight: bold;display: inline-block;line-height: 1.2em;}#sk-container-id-1 div.sk-label-container {text-align: center;}#sk-container-id-1 div.sk-container {/* jupyter's `normalize.less` sets `[hidden] { display: none; }` but bootstrap.min.css set `[hidden] { display: none !important; }` so we also need the `!important` here to be able to override the default hidden behavior on the sphinx rendered scikit-learn.org. See: https://github.com/scikit-learn/scikit-learn/issues/21755 */display: inline-block !important;position: relative;}#sk-container-id-1 div.sk-text-repr-fallback {display: none;}</style><div id=\"sk-container-id-1\" class=\"sk-top-container\"><div class=\"sk-text-repr-fallback\"><pre>LogisticRegression(max_iter=1000)</pre><b>In a Jupyter environment, please rerun this cell to show the HTML representation or trust the notebook. <br />On GitHub, the HTML representation is unable to render, please try loading this page with nbviewer.org.</b></div><div class=\"sk-container\" hidden><div class=\"sk-item\"><div class=\"sk-estimator sk-toggleable\"><input class=\"sk-toggleable__control sk-hidden--visually\" id=\"sk-estimator-id-1\" type=\"checkbox\" checked><label for=\"sk-estimator-id-1\" class=\"sk-toggleable__label sk-toggleable__label-arrow\">LogisticRegression</label><div class=\"sk-toggleable__content\"><pre>LogisticRegression(max_iter=1000)</pre></div></div></div></div></div>"
     },
     "execution_count": 4,
     "metadata": {},
     "output_type": "execute_result"
    }
   ],
   "source": [
    "model = LogisticRegression(max_iter=1000)\n",
    "model.fit(x_train, y_train)"
   ],
   "metadata": {
    "collapsed": false,
    "ExecuteTime": {
     "end_time": "2024-03-05T17:07:14.457611Z",
     "start_time": "2024-03-05T17:02:44.357653Z"
    }
   },
   "id": "c9636e59dc141cc2",
   "execution_count": 4
  },
  {
   "cell_type": "markdown",
   "source": [
    "#### 3. Оценка качества  "
   ],
   "metadata": {
    "collapsed": false
   },
   "id": "bcba11eec946b139"
  },
  {
   "cell_type": "code",
   "outputs": [
    {
     "name": "stdout",
     "output_type": "stream",
     "text": [
      "Accuracy: 0.9517241379310345\n",
      "Precision: 0.9521229351573929\n",
      "Recall: 0.9460699305457236\n"
     ]
    }
   ],
   "source": [
    "y_pred = model.predict(x_test)\n",
    "print(f\"Accuracy: {accuracy_score(y_test, y_pred)}\")\n",
    "print(f\"Precision: {precision_score(y_test, y_pred, average='macro')}\")\n",
    "print(f\"Recall: {recall_score(y_test, y_pred, average='macro')}\")"
   ],
   "metadata": {
    "collapsed": false,
    "ExecuteTime": {
     "end_time": "2024-03-05T17:07:14.577622Z",
     "start_time": "2024-03-05T17:07:14.460624Z"
    }
   },
   "id": "af076035e22d6927",
   "execution_count": 5
  },
  {
   "cell_type": "markdown",
   "source": [
    "Accuracy дает общее представление о правильном классифицировании дорожных знаков. Если распределение классов примерно сбалансировано, то она является хорошим показателем"
   ],
   "metadata": {
    "collapsed": false
   },
   "id": "3139547d851dc0fb"
  },
  {
   "cell_type": "markdown",
   "source": [
    "#### 4. Анализ ошибок "
   ],
   "metadata": {
    "collapsed": false
   },
   "id": "c0ead28fe80f73f"
  },
  {
   "cell_type": "code",
   "outputs": [
    {
     "data": {
      "text/plain": "(43, 43)"
     },
     "execution_count": 6,
     "metadata": {},
     "output_type": "execute_result"
    }
   ],
   "source": [
    "conf_matrix = confusion_matrix(y_test, y_pred)\n",
    "conf_matrix.shape"
   ],
   "metadata": {
    "collapsed": false,
    "ExecuteTime": {
     "end_time": "2024-03-05T17:07:14.588899Z",
     "start_time": "2024-03-05T17:07:14.578622Z"
    }
   },
   "id": "e167f64429dd335",
   "execution_count": 6
  },
  {
   "cell_type": "code",
   "outputs": [
    {
     "name": "stdout",
     "output_type": "stream",
     "text": [
      "('Speed limit (80km/h)', 'Speed limit (60km/h)')\n",
      "('Speed limit (60km/h)', 'Speed limit (80km/h)')\n",
      "('Speed limit (50km/h)', 'Speed limit (30km/h)')\n",
      "('Speed limit (30km/h)', 'Speed limit (50km/h)')\n",
      "('Speed limit (50km/h)', 'Speed limit (80km/h)')\n",
      "('Speed limit (30km/h)', 'Speed limit (70km/h)')\n",
      "('Speed limit (70km/h)', 'Speed limit (50km/h)')\n",
      "('Stop', 'No entry')\n",
      "('Speed limit (70km/h)', 'Speed limit (80km/h)')\n",
      "('Slippery road', 'Children crossing')\n",
      "('Speed limit (30km/h)', 'Speed limit (80km/h)')\n",
      "('Speed limit (30km/h)', 'Speed limit (100km/h)')\n",
      "('Speed limit (50km/h)', 'Speed limit (70km/h)')\n",
      "('Speed limit (50km/h)', 'Speed limit (100km/h)')\n",
      "('Speed limit (80km/h)', 'Speed limit (30km/h)')\n"
     ]
    }
   ],
   "source": [
    "label_names_df = pd.read_csv(\"../data/label_names.csv\")\n",
    "errors = [(conf_matrix[i, j], i, j) for i in range(43) for j in range(43) if i != j]  # список ошибок с индексами \n",
    "most_error = sorted(errors, key=lambda x: x[0], reverse=True)[:15]  # сортируем, берем первые 15 \n",
    "for i in most_error:\n",
    "    most_error_name = (label_names_df['SignName'].iloc[i[1]], label_names_df['SignName'].iloc[i[2]])\n",
    "    print(most_error_name)"
   ],
   "metadata": {
    "collapsed": false,
    "ExecuteTime": {
     "end_time": "2024-03-05T17:07:14.647653Z",
     "start_time": "2024-03-05T17:07:14.590907Z"
    }
   },
   "id": "67c40c01d88e14b",
   "execution_count": 7
  },
  {
   "cell_type": "markdown",
   "source": [
    "Вывод: модель плохо распознает знаки скоростного ограничения"
   ],
   "metadata": {
    "collapsed": false
   },
   "id": "2f0b4b6443ae4172"
  },
  {
   "cell_type": "markdown",
   "source": [
    "### Medium \n",
    "#### 1. Обучение моделей"
   ],
   "metadata": {
    "collapsed": false
   },
   "id": "5ae801257e2d4fe6"
  },
  {
   "cell_type": "code",
   "outputs": [
    {
     "name": "stderr",
     "output_type": "stream",
     "text": [
      "C:\\Users\\lizag\\anaconda3\\Lib\\site-packages\\sklearn\\linear_model\\_logistic.py:460: ConvergenceWarning: lbfgs failed to converge (status=1):\n",
      "STOP: TOTAL NO. of ITERATIONS REACHED LIMIT.\n",
      "\n",
      "Increase the number of iterations (max_iter) or scale the data as shown in:\n",
      "    https://scikit-learn.org/stable/modules/preprocessing.html\n",
      "Please also refer to the documentation for alternative solver options:\n",
      "    https://scikit-learn.org/stable/modules/linear_model.html#logistic-regression\n",
      "  n_iter_i = _check_optimize_result(\n",
      "C:\\Users\\lizag\\anaconda3\\Lib\\site-packages\\sklearn\\svm\\_base.py:297: ConvergenceWarning: Solver terminated early (max_iter=300).  Consider pre-processing your data with StandardScaler or MinMaxScaler.\n",
      "  warnings.warn(\n",
      "C:\\Users\\lizag\\anaconda3\\Lib\\site-packages\\sklearn\\svm\\_base.py:297: ConvergenceWarning: Solver terminated early (max_iter=300).  Consider pre-processing your data with StandardScaler or MinMaxScaler.\n",
      "  warnings.warn(\n",
      "C:\\Users\\lizag\\anaconda3\\Lib\\site-packages\\sklearn\\svm\\_base.py:297: ConvergenceWarning: Solver terminated early (max_iter=300).  Consider pre-processing your data with StandardScaler or MinMaxScaler.\n",
      "  warnings.warn(\n"
     ]
    }
   ],
   "source": [
    "x_train, x_test, y_train, y_test = train_test_split(x, y, test_size=0.2)\n",
    "log_reg = LogisticRegression(max_iter=300)\n",
    "knn = KNeighborsClassifier()\n",
    "nb = GaussianNB()\n",
    "svm_lin = SVC(kernel='linear', max_iter=300)\n",
    "svm_rbf = SVC(kernel='rbf', max_iter=300)\n",
    "svm_poly = SVC(kernel='poly', max_iter=300)\n",
    "models = {'Logistic Regression': log_reg,\n",
    "          'knn': knn,\n",
    "          'NB': nb,\n",
    "          'SVM_lin': svm_lin,\n",
    "          'SVM_rbf': svm_rbf,\n",
    "          'SVM_poly': svm_poly}\n",
    "for name, model in models.items():\n",
    "    model.fit(x_train, y_train)"
   ],
   "metadata": {
    "collapsed": false,
    "ExecuteTime": {
     "end_time": "2024-03-05T18:59:11.248449Z",
     "start_time": "2024-03-05T18:21:38.356706Z"
    }
   },
   "id": "ea4c19c1d0d9a7d8",
   "execution_count": 11
  },
  {
   "cell_type": "markdown",
   "source": [
    "#### 2. Оценка работы моделей "
   ],
   "metadata": {
    "collapsed": false
   },
   "id": "c4805ce01be22f3b"
  },
  {
   "cell_type": "code",
   "outputs": [
    {
     "name": "stderr",
     "output_type": "stream",
     "text": [
      "C:\\Users\\lizag\\anaconda3\\Lib\\site-packages\\sklearn\\metrics\\_classification.py:1469: UndefinedMetricWarning: Precision is ill-defined and being set to 0.0 in labels with no predicted samples. Use `zero_division` parameter to control this behavior.\n",
      "  _warn_prf(average, modifier, msg_start, len(result))\n"
     ]
    },
    {
     "name": "stdout",
     "output_type": "stream",
     "text": [
      "Logistic Regression: accuracy: 0.9556, precision: 0.9558, recall: 0.9556, f1: 0.9555\n",
      "knn: accuracy: 0.8787, precision: 0.8842, recall: 0.8787, f1: 0.8797\n",
      "NB: accuracy: 0.1716, precision: 0.4204, recall: 0.1716, f1: 0.1803\n",
      "SVM_lin: accuracy: 0.8861, precision: 0.8897, recall: 0.8861, f1: 0.8866\n",
      "SVM_rbf: accuracy: 0.7570, precision: 0.7929, recall: 0.7570, f1: 0.7594\n",
      "SVM_poly: accuracy: 0.5122, precision: 0.6745, recall: 0.5122, f1: 0.5304\n"
     ]
    }
   ],
   "source": [
    "results = {}\n",
    "for name, model in models.items():\n",
    "    y_pred = model.predict(x_test)\n",
    "    metrics = {\n",
    "        'accuracy': accuracy_score(y_test, y_pred),\n",
    "        'precision': precision_score(y_test, y_pred, average='weighted', zero_division=0),\n",
    "        'recall': recall_score(y_test, y_pred, average='weighted'),\n",
    "        'f1': f1_score(y_test, y_pred, average='weighted', zero_division=0)\n",
    "    }\n",
    "    results[name] = metrics\n",
    "\n",
    "for name, metrics in results.items():\n",
    "    print(f\"{name}: accuracy: {metrics['accuracy']:.4f}, precision: {metrics['precision']:.4f}, \"\n",
    "          f\"recall: {metrics['recall']:.4f}, f1: {metrics['f1']:.4f}\")"
   ],
   "metadata": {
    "collapsed": false,
    "ExecuteTime": {
     "end_time": "2024-03-05T19:13:21.108801Z",
     "start_time": "2024-03-05T18:59:11.254463Z"
    }
   },
   "id": "db7d48325d9d7501",
   "execution_count": 12
  },
  {
   "cell_type": "markdown",
   "source": [
    "#### 3. Выводы "
   ],
   "metadata": {
    "collapsed": false
   },
   "id": "e98794c0305a43c3"
  },
  {
   "cell_type": "markdown",
   "source": [
    "1. Логическая регрессия и `SVM` с линейным ядром показали лучшие результаты. При этом `SVM` с ядрами `rbf`, `poly` работают не так хорошо и довольно медленно на большом объеме входных данных \n",
    "2. Производительность `knn` зависит от выбранных параметров, способа измерения расстояния и размеров изображений\n",
    "3. Модель `NB` хорошо работает если признаки независимы, но для изображений это выполняется редко, поэтому эта модель имеет низкую точность по сравнению с другими \n"
   ],
   "metadata": {
    "collapsed": false
   },
   "id": "9747311feb775829"
  }
 ],
 "metadata": {
  "kernelspec": {
   "display_name": "Python 3",
   "language": "python",
   "name": "python3"
  },
  "language_info": {
   "codemirror_mode": {
    "name": "ipython",
    "version": 2
   },
   "file_extension": ".py",
   "mimetype": "text/x-python",
   "name": "python",
   "nbconvert_exporter": "python",
   "pygments_lexer": "ipython2",
   "version": "2.7.6"
  }
 },
 "nbformat": 4,
 "nbformat_minor": 5
}
