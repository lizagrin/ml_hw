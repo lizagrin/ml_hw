{
 "cells": [
  {
   "cell_type": "markdown",
   "source": [
    "## Дз 3"
   ],
   "metadata": {
    "collapsed": false
   },
   "id": "4f767963ddef450e"
  },
  {
   "cell_type": "code",
   "outputs": [],
   "source": [],
   "metadata": {
    "collapsed": false,
    "ExecuteTime": {
     "end_time": "2024-02-13T14:19:33.514706800Z",
     "start_time": "2024-02-13T14:19:33.510185400Z"
    }
   },
   "id": "30d0ac41dcd072b7",
   "execution_count": 2
  }
 ],
 "metadata": {
  "kernelspec": {
   "display_name": "Python 3",
   "language": "python",
   "name": "python3"
  },
  "language_info": {
   "codemirror_mode": {
    "name": "ipython",
    "version": 2
   },
   "file_extension": ".py",
   "mimetype": "text/x-python",
   "name": "python",
   "nbconvert_exporter": "python",
   "pygments_lexer": "ipython2",
   "version": "2.7.6"
  }
 },
 "nbformat": 4,
 "nbformat_minor": 5
}
